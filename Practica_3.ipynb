{
 "cells": [
  {
   "cell_type": "markdown",
   "id": "06149805",
   "metadata": {},
   "source": [
    "## Juan Carlos Carrion Disla  21-1064"
   ]
  },
  {
   "cell_type": "markdown",
   "id": "241b2373",
   "metadata": {},
   "source": [
    "# <center>Práctica 3<center>\n",
    "\n",
    "Objetivo:\n",
    "El objetivo de esta práctica es familiarizarte con los diferentes tipos de datos en Python y cómo trabajar con ellos."
   ]
  },
  {
   "cell_type": "markdown",
   "id": "63f9e2f6",
   "metadata": {},
   "source": [
    "## 1- Escribe una breve descripción de los Tipos de Objetos y Estructuras de Datos que se muestran a continuación: \n",
    "\n",
    "* #### Number:  Representa números, como enteros y decimales.\n",
    "\n",
    "* #### String : Cadena de caracteres para texto. Se define entre comillas\n",
    "\n",
    "* #### List: Una colección ordenada de elementos que puede cambiarse\n",
    "\n",
    "* #### Set: Una colección de elementos únicos sin orden específico. Se define con llaves o con set()\n",
    "\n",
    "* #### Tuple: Una colección ordenada de elementos que no puede cambiarse\n",
    "\n",
    "* #### Dictionarie: Una colección de pares clave-valor. Se define con llaves.\n",
    "\n",
    "Puedes editar la celda haciendo doble clic sobre ella. "
   ]
  },
  {
   "cell_type": "markdown",
   "id": "ee520963",
   "metadata": {},
   "source": [
    "## 2- Cúal es la diferencia entre List, Tuple y Set?"
   ]
  },
  {
   "cell_type": "markdown",
   "id": "60f5e569",
   "metadata": {},
   "source": []
  },
  {
   "cell_type": "code",
   "execution_count": null,
   "id": "224673b2",
   "metadata": {},
   "outputs": [],
   "source": [
    "#Que la lista, es una coleccion ordenada y modificable, la tupla no se puede modificar, y los sets son desordenados "
   ]
  },
  {
   "cell_type": "markdown",
   "id": "94c4c67d",
   "metadata": {},
   "source": [
    "## 3- Crea una lista que contenga números enteros y flotantes e imprimela\n"
   ]
  },
  {
   "cell_type": "code",
   "execution_count": 4,
   "id": "b54bc01e",
   "metadata": {},
   "outputs": [
    {
     "name": "stdout",
     "output_type": "stream",
     "text": [
      "[11, 2.5, 45.5, 255]\n"
     ]
    }
   ],
   "source": [
    "listasi = [11,2.5,45.5,255]\n",
    "print(listasi)"
   ]
  },
  {
   "cell_type": "markdown",
   "id": "943c13a1",
   "metadata": {},
   "source": [
    "## 4- Crea una tupla que contenga algunos Strings e imprimela"
   ]
  },
  {
   "cell_type": "code",
   "execution_count": 3,
   "id": "4ce63ffb",
   "metadata": {},
   "outputs": [
    {
     "name": "stdout",
     "output_type": "stream",
     "text": [
      "('Juan', 'Carlos', 'Carrion', 'Disla')\n"
     ]
    }
   ],
   "source": [
    "tuplaex = (\"Juan\", \"Carlos\", \"Carrion\",\"Disla\")\n",
    "print(tuplaex)"
   ]
  },
  {
   "cell_type": "markdown",
   "id": "66cc1b05",
   "metadata": {},
   "source": [
    "## 5- Crea un diccionario que tenga como claves algunas de las cadenas de la tupla creada antes y como valores algunos de los números de la lista creada antes e imprime"
   ]
  },
  {
   "cell_type": "code",
   "execution_count": 12,
   "id": "e48aaca3",
   "metadata": {},
   "outputs": [
    {
     "name": "stdout",
     "output_type": "stream",
     "text": [
      "Juan Carrion 2.5\n"
     ]
    }
   ],
   "source": [
    "\n",
    "dicex = {\"Nombre\":tuplaex[0], \"Apellido\":tuplaex[2], \"Numero\":listasi[1]}\n",
    "print(dicex[\"Nombre\"],dicex[\"Apellido\"],dicex[\"Numero\"])"
   ]
  },
  {
   "cell_type": "markdown",
   "id": "020fab64",
   "metadata": {},
   "source": [
    "## 6- Escribe una ecuación de como resultado 150,75 utilizando la multiplicación, la división, la potencia, la raíz cuadrada, la suma y la resta "
   ]
  },
  {
   "cell_type": "code",
   "execution_count": 31,
   "id": "c76f4670",
   "metadata": {},
   "outputs": [
    {
     "name": "stdout",
     "output_type": "stream",
     "text": [
      "150.75\n"
     ]
    }
   ],
   "source": [
    "\n",
    "import math\n",
    "\n",
    "# Potencia\n",
    "power_10 = 10 ** 2\n",
    "\n",
    "# Raíz cuadrada\n",
    "sqrt_81 = math.sqrt(81)\n",
    "\n",
    "# Suma\n",
    "sum_result = power_10 + sqrt_81\n",
    "\n",
    "# Multiplicación\n",
    "mult_result = sum_result * 1\n",
    "\n",
    "# Suma\n",
    "sum_result_2 = mult_result + 45\n",
    "\n",
    "# Resta final\n",
    "final_result = sum_result_2 - 3.25\n",
    "\n",
    "# Mostrar el resultado final\n",
    "print(final_result)\n"
   ]
  },
  {
   "cell_type": "markdown",
   "id": "f325a5d7",
   "metadata": {},
   "source": [
    "## 7- Añade un número al listado creado en el punto 3"
   ]
  },
  {
   "cell_type": "code",
   "execution_count": 8,
   "id": "7d886a09",
   "metadata": {},
   "outputs": [
    {
     "name": "stdout",
     "output_type": "stream",
     "text": [
      "[11, 2.5, 45.5, 255, 2]\n"
     ]
    }
   ],
   "source": [
    "listasi.append(2)\n",
    "print(listasi)"
   ]
  },
  {
   "cell_type": "markdown",
   "id": "65fc6d3e",
   "metadata": {},
   "source": [
    "## 8- Convierte el listado anterior en un set e imprimelo"
   ]
  },
  {
   "cell_type": "code",
   "execution_count": 9,
   "id": "0e3e5e0e",
   "metadata": {},
   "outputs": [
    {
     "name": "stdout",
     "output_type": "stream",
     "text": [
      "{2, 2.5, 11, 45.5, 255}\n"
     ]
    }
   ],
   "source": [
    "setlista = set(listasi)\n",
    "print(setlista)"
   ]
  },
  {
   "cell_type": "markdown",
   "id": "ea5d9aed",
   "metadata": {},
   "source": [
    "## 9- Utiliza los index y las llaves para acceder e imprimir \"hola\" del siguiente diccionario:"
   ]
  },
  {
   "cell_type": "code",
   "execution_count": 14,
   "id": "4e3535d0",
   "metadata": {},
   "outputs": [
    {
     "name": "stdout",
     "output_type": "stream",
     "text": [
      "hola\n"
     ]
    }
   ],
   "source": [
    "d = {'c1':[4,1,{'c2':['es otro listado',{'0':[3,1,['hola']]}]}]}\n",
    "\n",
    "lol = d['c1'][2]['c2'][1]['0'][2][0]\n",
    "\n",
    "print(lol)"
   ]
  },
  {
   "cell_type": "markdown",
   "id": "58aad6b7",
   "metadata": {},
   "source": [
    "## 10- Basado en el diccionario anterior, que resultado arroja la siguiente expresión?\n",
    "d['c1'][0] > d['c1'][2]['c2'][1]['0'][0]"
   ]
  },
  {
   "cell_type": "code",
   "execution_count": 27,
   "id": "cd9b3545",
   "metadata": {},
   "outputs": [
    {
     "name": "stdout",
     "output_type": "stream",
     "text": [
      "4\n",
      "3\n",
      "True\n"
     ]
    }
   ],
   "source": [
    "\n",
    "print(d['c1'][0])\n",
    "print(d['c1'][2]['c2'][1]['0'][0])\n",
    "print(d['c1'][0]>d['c1'][2]['c2'][1]['0'][0])\n",
    "\n",
    "\n"
   ]
  }
 ],
 "metadata": {
  "kernelspec": {
   "display_name": "Python 3 (ipykernel)",
   "language": "python",
   "name": "python3"
  },
  "language_info": {
   "codemirror_mode": {
    "name": "ipython",
    "version": 3
   },
   "file_extension": ".py",
   "mimetype": "text/x-python",
   "name": "python",
   "nbconvert_exporter": "python",
   "pygments_lexer": "ipython3",
   "version": "3.12.3"
  }
 },
 "nbformat": 4,
 "nbformat_minor": 5
}
